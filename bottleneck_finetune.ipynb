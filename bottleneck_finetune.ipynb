{
 "cells": [
  {
   "cell_type": "markdown",
   "metadata": {},
   "source": [
    "# \"Bottleneck\" Features and Finetuning\n",
    "Code for 10/1 lecture in CS 4774"
   ]
  },
  {
   "cell_type": "markdown",
   "metadata": {},
   "source": [
    "## \"Bottleneck\" features"
   ]
  },
  {
   "cell_type": "markdown",
   "metadata": {},
   "source": [
    "### Import convolutional base"
   ]
  },
  {
   "cell_type": "code",
   "execution_count": 1,
   "metadata": {},
   "outputs": [
    {
     "name": "stderr",
     "output_type": "stream",
     "text": [
      "Using TensorFlow backend.\n"
     ]
    }
   ],
   "source": [
    "import warnings\n",
    "warnings.filterwarnings(\"ignore\")\n",
    "\n",
    "from keras.applications import VGG16"
   ]
  },
  {
   "cell_type": "code",
   "execution_count": 2,
   "metadata": {},
   "outputs": [
    {
     "name": "stdout",
     "output_type": "stream",
     "text": [
      "WARNING:tensorflow:From /Users/spencerjenkins/Documents/UVA/Finetuning/env/lib/python3.7/site-packages/keras/backend/tensorflow_backend.py:4070: The name tf.nn.max_pool is deprecated. Please use tf.nn.max_pool2d instead.\n",
      "\n"
     ]
    }
   ],
   "source": [
    "conv_base = VGG16(weights='imagenet',\n",
    "                  include_top=False,\n",
    "                  input_shape=(150, 150, 3))"
   ]
  },
  {
   "cell_type": "code",
   "execution_count": 3,
   "metadata": {},
   "outputs": [
    {
     "name": "stdout",
     "output_type": "stream",
     "text": [
      "Model: \"vgg16\"\n",
      "_________________________________________________________________\n",
      "Layer (type)                 Output Shape              Param #   \n",
      "=================================================================\n",
      "input_1 (InputLayer)         (None, 150, 150, 3)       0         \n",
      "_________________________________________________________________\n",
      "block1_conv1 (Conv2D)        (None, 150, 150, 64)      1792      \n",
      "_________________________________________________________________\n",
      "block1_conv2 (Conv2D)        (None, 150, 150, 64)      36928     \n",
      "_________________________________________________________________\n",
      "block1_pool (MaxPooling2D)   (None, 75, 75, 64)        0         \n",
      "_________________________________________________________________\n",
      "block2_conv1 (Conv2D)        (None, 75, 75, 128)       73856     \n",
      "_________________________________________________________________\n",
      "block2_conv2 (Conv2D)        (None, 75, 75, 128)       147584    \n",
      "_________________________________________________________________\n",
      "block2_pool (MaxPooling2D)   (None, 37, 37, 128)       0         \n",
      "_________________________________________________________________\n",
      "block3_conv1 (Conv2D)        (None, 37, 37, 256)       295168    \n",
      "_________________________________________________________________\n",
      "block3_conv2 (Conv2D)        (None, 37, 37, 256)       590080    \n",
      "_________________________________________________________________\n",
      "block3_conv3 (Conv2D)        (None, 37, 37, 256)       590080    \n",
      "_________________________________________________________________\n",
      "block3_pool (MaxPooling2D)   (None, 18, 18, 256)       0         \n",
      "_________________________________________________________________\n",
      "block4_conv1 (Conv2D)        (None, 18, 18, 512)       1180160   \n",
      "_________________________________________________________________\n",
      "block4_conv2 (Conv2D)        (None, 18, 18, 512)       2359808   \n",
      "_________________________________________________________________\n",
      "block4_conv3 (Conv2D)        (None, 18, 18, 512)       2359808   \n",
      "_________________________________________________________________\n",
      "block4_pool (MaxPooling2D)   (None, 9, 9, 512)         0         \n",
      "_________________________________________________________________\n",
      "block5_conv1 (Conv2D)        (None, 9, 9, 512)         2359808   \n",
      "_________________________________________________________________\n",
      "block5_conv2 (Conv2D)        (None, 9, 9, 512)         2359808   \n",
      "_________________________________________________________________\n",
      "block5_conv3 (Conv2D)        (None, 9, 9, 512)         2359808   \n",
      "_________________________________________________________________\n",
      "block5_pool (MaxPooling2D)   (None, 4, 4, 512)         0         \n",
      "=================================================================\n",
      "Total params: 14,714,688\n",
      "Trainable params: 14,714,688\n",
      "Non-trainable params: 0\n",
      "_________________________________________________________________\n"
     ]
    }
   ],
   "source": [
    "conv_base.summary()"
   ]
  },
  {
   "cell_type": "markdown",
   "metadata": {},
   "source": [
    "### Feature extraction"
   ]
  },
  {
   "cell_type": "code",
   "execution_count": 4,
   "metadata": {},
   "outputs": [],
   "source": [
    "import os\n",
    "import numpy as np\n",
    "from keras.preprocessing.image import ImageDataGenerator"
   ]
  },
  {
   "cell_type": "code",
   "execution_count": 5,
   "metadata": {},
   "outputs": [],
   "source": [
    "# Change directory paths here to point to your own data\n",
    "\n",
    "base_dir = './small_dataset'\n",
    "train_dir = os.path.join(base_dir, 'train')\n",
    "validation_dir = os.path.join(base_dir, 'validation')\n",
    "test_dir = os.path.join(base_dir, 'test')"
   ]
  },
  {
   "cell_type": "code",
   "execution_count": 6,
   "metadata": {},
   "outputs": [],
   "source": [
    "datagen = ImageDataGenerator(rescale=1./255)\n",
    "batch_size = 20"
   ]
  },
  {
   "cell_type": "code",
   "execution_count": 7,
   "metadata": {},
   "outputs": [],
   "source": [
    "def extract_features(directory, sample_count):\n",
    "    features = np.zeros(shape=(sample_count, 4, 4, 512))\n",
    "    labels = np.zeros(shape=(sample_count))\n",
    "    generator = datagen.flow_from_directory(\n",
    "        directory,\n",
    "        target_size=(150, 150),\n",
    "        batch_size=batch_size,\n",
    "        class_mode='binary')\n",
    "    i = 0\n",
    "    for inputs_batch, labels_batch in generator:\n",
    "        features_batch = conv_base.predict(inputs_batch)\n",
    "        features[i * batch_size: (i + 1) * batch_size] = features_batch\n",
    "        labels[i * batch_size: (i + 1) * batch_size] = labels_batch\n",
    "        i += 1\n",
    "        if i * batch_size >= sample_count:\n",
    "            break\n",
    "    return features, labels"
   ]
  },
  {
   "cell_type": "code",
   "execution_count": 8,
   "metadata": {},
   "outputs": [
    {
     "name": "stdout",
     "output_type": "stream",
     "text": [
      "Found 2000 images belonging to 2 classes.\n",
      "WARNING:tensorflow:From /Users/spencerjenkins/Documents/UVA/Finetuning/env/lib/python3.7/site-packages/keras/backend/tensorflow_backend.py:422: The name tf.global_variables is deprecated. Please use tf.compat.v1.global_variables instead.\n",
      "\n",
      "Found 1000 images belonging to 2 classes.\n",
      "Found 1000 images belonging to 2 classes.\n"
     ]
    }
   ],
   "source": [
    "train_features, train_labels = extract_features(train_dir, 2000)\n",
    "validation_features, validation_labels = extract_features(validation_dir, 1000)\n",
    "test_features, test_labels = extract_features(test_dir, 1000)"
   ]
  },
  {
   "cell_type": "code",
   "execution_count": 8,
   "metadata": {
    "collapsed": true,
    "jupyter": {
     "outputs_hidden": true
    }
   },
   "outputs": [
    {
     "ename": "NameError",
     "evalue": "name 'train_features' is not defined",
     "output_type": "error",
     "traceback": [
      "\u001b[0;31m---------------------------------------------------------------------------\u001b[0m",
      "\u001b[0;31mNameError\u001b[0m                                 Traceback (most recent call last)",
      "\u001b[0;32m<ipython-input-8-8bec02f089df>\u001b[0m in \u001b[0;36m<module>\u001b[0;34m\u001b[0m\n\u001b[1;32m      1\u001b[0m \u001b[0;31m# Flatten features for input into densely connected classifier\u001b[0m\u001b[0;34m\u001b[0m\u001b[0;34m\u001b[0m\u001b[0;34m\u001b[0m\u001b[0m\n\u001b[0;32m----> 2\u001b[0;31m \u001b[0mtrain_features\u001b[0m \u001b[0;34m=\u001b[0m \u001b[0mnp\u001b[0m\u001b[0;34m.\u001b[0m\u001b[0mreshape\u001b[0m\u001b[0;34m(\u001b[0m\u001b[0mtrain_features\u001b[0m\u001b[0;34m,\u001b[0m \u001b[0;34m(\u001b[0m\u001b[0;36m2000\u001b[0m\u001b[0;34m,\u001b[0m \u001b[0;36m4\u001b[0m \u001b[0;34m*\u001b[0m \u001b[0;36m4\u001b[0m \u001b[0;34m*\u001b[0m \u001b[0;36m512\u001b[0m\u001b[0;34m)\u001b[0m\u001b[0;34m)\u001b[0m\u001b[0;34m\u001b[0m\u001b[0;34m\u001b[0m\u001b[0m\n\u001b[0m\u001b[1;32m      3\u001b[0m \u001b[0mvalidation_features\u001b[0m \u001b[0;34m=\u001b[0m \u001b[0mnp\u001b[0m\u001b[0;34m.\u001b[0m\u001b[0mreshape\u001b[0m\u001b[0;34m(\u001b[0m\u001b[0mvalidation_features\u001b[0m\u001b[0;34m,\u001b[0m \u001b[0;34m(\u001b[0m\u001b[0;36m1000\u001b[0m\u001b[0;34m,\u001b[0m \u001b[0;36m4\u001b[0m \u001b[0;34m*\u001b[0m \u001b[0;36m4\u001b[0m \u001b[0;34m*\u001b[0m \u001b[0;36m512\u001b[0m\u001b[0;34m)\u001b[0m\u001b[0;34m)\u001b[0m\u001b[0;34m\u001b[0m\u001b[0;34m\u001b[0m\u001b[0m\n\u001b[1;32m      4\u001b[0m \u001b[0mtest_features\u001b[0m \u001b[0;34m=\u001b[0m \u001b[0mnp\u001b[0m\u001b[0;34m.\u001b[0m\u001b[0mreshape\u001b[0m\u001b[0;34m(\u001b[0m\u001b[0mtest_features\u001b[0m\u001b[0;34m,\u001b[0m \u001b[0;34m(\u001b[0m\u001b[0;36m1000\u001b[0m\u001b[0;34m,\u001b[0m \u001b[0;36m4\u001b[0m \u001b[0;34m*\u001b[0m \u001b[0;36m4\u001b[0m \u001b[0;34m*\u001b[0m \u001b[0;36m512\u001b[0m\u001b[0;34m)\u001b[0m\u001b[0;34m)\u001b[0m\u001b[0;34m\u001b[0m\u001b[0;34m\u001b[0m\u001b[0m\n",
      "\u001b[0;31mNameError\u001b[0m: name 'train_features' is not defined"
     ]
    }
   ],
   "source": [
    "# Flatten features for input into densely connected classifier\n",
    "train_features = np.reshape(train_features, (2000, 4 * 4 * 512))\n",
    "validation_features = np.reshape(validation_features, (1000, 4 * 4 * 512))\n",
    "test_features = np.reshape(test_features, (1000, 4 * 4 * 512))"
   ]
  },
  {
   "cell_type": "code",
   "execution_count": 17,
   "metadata": {},
   "outputs": [],
   "source": [
    "np.save('./features/train_features.npy', train_features)\n",
    "np.save('./features/train_labels.npy', train_labels)\n",
    "np.save('./features/validation_features.npy', validation_features)\n",
    "np.save('./features/validation_labels.npy', validation_labels)\n",
    "np.save('./features/test_features.npy', test_features)\n",
    "np.save('./features/test_labels.npy', test_labels)"
   ]
  },
  {
   "cell_type": "markdown",
   "metadata": {},
   "source": [
    "### Train densely connected classifier"
   ]
  },
  {
   "cell_type": "code",
   "execution_count": 9,
   "metadata": {},
   "outputs": [],
   "source": [
    "train_features = np.load('./features/train_features.npy')\n",
    "train_labels = np.load('./features/train_labels.npy')\n",
    "\n",
    "validation_features = np.load('./features/validation_features.npy')\n",
    "validation_labels = np.load('./features/validation_labels.npy')\n",
    "\n",
    "test_features = np.load('./features/test_features.npy')\n",
    "test_labels = np.load('./features/test_labels.npy')"
   ]
  },
  {
   "cell_type": "code",
   "execution_count": 10,
   "metadata": {},
   "outputs": [],
   "source": [
    "from keras import models\n",
    "from keras import layers\n",
    "from keras import optimizers"
   ]
  },
  {
   "cell_type": "code",
   "execution_count": 11,
   "metadata": {},
   "outputs": [],
   "source": [
    "dense = models.Sequential()\n",
    "dense.add(layers.Dense(256, activation='relu', input_dim=4 * 4 * 512))\n",
    "dense.add(layers.Dropout(0.5)) # Helps to regularize the network\n",
    "dense.add(layers.Dense(1, activation='sigmoid')) # Sigmoid activation allows for classification"
   ]
  },
  {
   "cell_type": "code",
   "execution_count": 12,
   "metadata": {},
   "outputs": [
    {
     "name": "stdout",
     "output_type": "stream",
     "text": [
      "WARNING:tensorflow:From /Users/spencerjenkins/Documents/UVA/Finetuning/env/lib/python3.7/site-packages/tensorflow/python/ops/nn_impl.py:180: add_dispatch_support.<locals>.wrapper (from tensorflow.python.ops.array_ops) is deprecated and will be removed in a future version.\n",
      "Instructions for updating:\n",
      "Use tf.where in 2.0, which has the same broadcast rule as np.where\n"
     ]
    }
   ],
   "source": [
    "dense.compile(optimizer=optimizers.RMSprop(lr=2e-5),\n",
    "              loss='binary_crossentropy', \n",
    "              metrics=['acc'])"
   ]
  },
  {
   "cell_type": "code",
   "execution_count": 13,
   "metadata": {},
   "outputs": [
    {
     "name": "stdout",
     "output_type": "stream",
     "text": [
      "WARNING:tensorflow:From /Users/spencerjenkins/Documents/UVA/Finetuning/env/lib/python3.7/site-packages/keras/backend/tensorflow_backend.py:422: The name tf.global_variables is deprecated. Please use tf.compat.v1.global_variables instead.\n",
      "\n",
      "Train on 2000 samples, validate on 1000 samples\n",
      "Epoch 1/30\n",
      "2000/2000 [==============================] - 2s 1ms/step - loss: 0.5992 - acc: 0.6865 - val_loss: 0.4308 - val_acc: 0.8300\n",
      "Epoch 2/30\n",
      "2000/2000 [==============================] - 2s 1ms/step - loss: 0.4162 - acc: 0.8065 - val_loss: 0.3493 - val_acc: 0.8760\n",
      "Epoch 3/30\n",
      "2000/2000 [==============================] - 2s 1ms/step - loss: 0.3554 - acc: 0.8460 - val_loss: 0.3135 - val_acc: 0.8870\n",
      "Epoch 4/30\n",
      "2000/2000 [==============================] - 2s 855us/step - loss: 0.3090 - acc: 0.8660 - val_loss: 0.2909 - val_acc: 0.8910\n",
      "Epoch 5/30\n",
      "2000/2000 [==============================] - 2s 853us/step - loss: 0.2814 - acc: 0.8810 - val_loss: 0.2919 - val_acc: 0.8820\n",
      "Epoch 6/30\n",
      "2000/2000 [==============================] - 2s 850us/step - loss: 0.2624 - acc: 0.8875 - val_loss: 0.2688 - val_acc: 0.8930\n",
      "Epoch 7/30\n",
      "2000/2000 [==============================] - 2s 813us/step - loss: 0.2469 - acc: 0.9080 - val_loss: 0.2620 - val_acc: 0.9000\n",
      "Epoch 8/30\n",
      "2000/2000 [==============================] - 2s 845us/step - loss: 0.2246 - acc: 0.9090 - val_loss: 0.2521 - val_acc: 0.9040\n",
      "Epoch 9/30\n",
      "2000/2000 [==============================] - 2s 825us/step - loss: 0.2189 - acc: 0.9190 - val_loss: 0.2485 - val_acc: 0.9020\n",
      "Epoch 10/30\n",
      "2000/2000 [==============================] - 2s 845us/step - loss: 0.2012 - acc: 0.9205 - val_loss: 0.2454 - val_acc: 0.9040\n",
      "Epoch 11/30\n",
      "2000/2000 [==============================] - 2s 842us/step - loss: 0.2012 - acc: 0.9250 - val_loss: 0.2444 - val_acc: 0.8970\n",
      "Epoch 12/30\n",
      "2000/2000 [==============================] - 2s 845us/step - loss: 0.1895 - acc: 0.9285 - val_loss: 0.2405 - val_acc: 0.9030\n",
      "Epoch 13/30\n",
      "2000/2000 [==============================] - 2s 855us/step - loss: 0.1825 - acc: 0.9340 - val_loss: 0.2483 - val_acc: 0.8990\n",
      "Epoch 14/30\n",
      "2000/2000 [==============================] - 2s 949us/step - loss: 0.1637 - acc: 0.9435 - val_loss: 0.2357 - val_acc: 0.9080\n",
      "Epoch 15/30\n",
      "2000/2000 [==============================] - 2s 907us/step - loss: 0.1625 - acc: 0.9435 - val_loss: 0.2399 - val_acc: 0.9010\n",
      "Epoch 16/30\n",
      "2000/2000 [==============================] - 2s 890us/step - loss: 0.1492 - acc: 0.9500 - val_loss: 0.2340 - val_acc: 0.9050\n",
      "Epoch 17/30\n",
      "2000/2000 [==============================] - 2s 894us/step - loss: 0.1470 - acc: 0.9485 - val_loss: 0.2374 - val_acc: 0.9040\n",
      "Epoch 18/30\n",
      "2000/2000 [==============================] - 2s 905us/step - loss: 0.1404 - acc: 0.9505 - val_loss: 0.2432 - val_acc: 0.9030\n",
      "Epoch 19/30\n",
      "2000/2000 [==============================] - 2s 905us/step - loss: 0.1311 - acc: 0.9560 - val_loss: 0.2375 - val_acc: 0.9050\n",
      "Epoch 20/30\n",
      "2000/2000 [==============================] - 2s 907us/step - loss: 0.1246 - acc: 0.9560 - val_loss: 0.2323 - val_acc: 0.9080\n",
      "Epoch 21/30\n",
      "2000/2000 [==============================] - 2s 918us/step - loss: 0.1243 - acc: 0.9570 - val_loss: 0.2349 - val_acc: 0.9070\n",
      "Epoch 22/30\n",
      "2000/2000 [==============================] - 2s 915us/step - loss: 0.1178 - acc: 0.9600 - val_loss: 0.2377 - val_acc: 0.9050\n",
      "Epoch 23/30\n",
      "2000/2000 [==============================] - 2s 922us/step - loss: 0.1132 - acc: 0.9615 - val_loss: 0.2307 - val_acc: 0.9010\n",
      "Epoch 24/30\n",
      "2000/2000 [==============================] - 2s 926us/step - loss: 0.1090 - acc: 0.9665 - val_loss: 0.2314 - val_acc: 0.9030\n",
      "Epoch 25/30\n",
      "2000/2000 [==============================] - 2s 933us/step - loss: 0.1006 - acc: 0.9710 - val_loss: 0.2340 - val_acc: 0.9050\n",
      "Epoch 26/30\n",
      "2000/2000 [==============================] - 2s 936us/step - loss: 0.0996 - acc: 0.9670 - val_loss: 0.2316 - val_acc: 0.9030\n",
      "Epoch 27/30\n",
      "2000/2000 [==============================] - 2s 941us/step - loss: 0.0934 - acc: 0.9750 - val_loss: 0.2377 - val_acc: 0.9060\n",
      "Epoch 28/30\n",
      "2000/2000 [==============================] - 2s 948us/step - loss: 0.0906 - acc: 0.9755 - val_loss: 0.2349 - val_acc: 0.9010\n",
      "Epoch 29/30\n",
      "2000/2000 [==============================] - 2s 947us/step - loss: 0.0869 - acc: 0.9750 - val_loss: 0.2356 - val_acc: 0.9010\n",
      "Epoch 30/30\n",
      "2000/2000 [==============================] - 2s 952us/step - loss: 0.0870 - acc: 0.9780 - val_loss: 0.2395 - val_acc: 0.9050\n"
     ]
    }
   ],
   "source": [
    "history = dense.fit(train_features, train_labels,\n",
    "                    epochs=30,\n",
    "                    batch_size=20,\n",
    "                    validation_data=[validation_features, validation_labels])"
   ]
  },
  {
   "cell_type": "markdown",
   "metadata": {},
   "source": [
    "### Plotting results"
   ]
  },
  {
   "cell_type": "code",
   "execution_count": 14,
   "metadata": {},
   "outputs": [],
   "source": [
    "import matplotlib.pyplot as plt"
   ]
  },
  {
   "cell_type": "code",
   "execution_count": 15,
   "metadata": {},
   "outputs": [],
   "source": [
    "acc = history.history['acc']\n",
    "val_acc = history.history['val_acc']\n",
    "loss = history.history['loss']\n",
    "val_loss = history.history['val_loss']\n",
    "\n",
    "epochs = range(1, len(acc) + 1)"
   ]
  },
  {
   "cell_type": "code",
   "execution_count": 16,
   "metadata": {},
   "outputs": [
    {
     "data": {
      "image/png": "[encoded data removed]",
      "text/plain": [
       "<Figure size 432x288 with 1 Axes>"
      ]
     },
     "metadata": {
      "needs_background": "light"
     },
     "output_type": "display_data"
    }
   ],
   "source": [
    "plt.plot(epochs, acc, 'bo', label='Training accuracy')\n",
    "plt.plot(epochs, val_acc, 'b', label = 'Validation accuracy')\n",
    "plt.title('Training and Validation Accuracy')\n",
    "plt.legend()\n",
    "plt.show()"
   ]
  },
  {
   "cell_type": "code",
   "execution_count": 17,
   "metadata": {},
   "outputs": [
    {
     "data": {
      "image/png": "[encoded data removed]",
      "text/plain": [
       "<Figure size 432x288 with 1 Axes>"
      ]
     },
     "metadata": {
      "needs_background": "light"
     },
     "output_type": "display_data"
    }
   ],
   "source": [
    "plt.plot(epochs, loss, 'bo', label='Training loss')\n",
    "plt.plot(epochs, val_loss, 'b', label = 'Validation loss')\n",
    "plt.title('Training and Validation Loss')\n",
    "plt.legend()\n",
    "plt.show()"
   ]
  },
  {
   "cell_type": "markdown",
   "metadata": {},
   "source": [
    "## Fine-tuning"
   ]
  },
  {
   "cell_type": "code",
   "execution_count": 18,
   "metadata": {},
   "outputs": [],
   "source": [
    "conv_base.trainable = True\n",
    "\n",
    "set_trainable = False\n",
    "for layer in conv_base.layers:\n",
    "    if layer.name == 'block5_conv1':\n",
    "        set_trainable = True\n",
    "    if set_trainable:\n",
    "        layer.trainable = True\n",
    "    else:\n",
    "        layer.trainable = False"
   ]
  },
  {
   "cell_type": "code",
   "execution_count": 19,
   "metadata": {},
   "outputs": [],
   "source": [
    "model = models.Sequential()\n",
    "model.add(conv_base)\n",
    "model.add(layers.Flatten())\n",
    "model.add(dense)"
   ]
  },
  {
   "cell_type": "code",
   "execution_count": 20,
   "metadata": {},
   "outputs": [
    {
     "name": "stdout",
     "output_type": "stream",
     "text": [
      "Model: \"sequential_2\"\n",
      "_________________________________________________________________\n",
      "Layer (type)                 Output Shape              Param #   \n",
      "=================================================================\n",
      "vgg16 (Model)                (None, 4, 4, 512)         14714688  \n",
      "_________________________________________________________________\n",
      "flatten_1 (Flatten)          (None, 8192)              0         \n",
      "_________________________________________________________________\n",
      "sequential_1 (Sequential)    (None, 1)                 2097665   \n",
      "=================================================================\n",
      "Total params: 16,812,353\n",
      "Trainable params: 9,177,089\n",
      "Non-trainable params: 7,635,264\n",
      "_________________________________________________________________\n"
     ]
    }
   ],
   "source": [
    "model.summary()"
   ]
  },
  {
   "cell_type": "code",
   "execution_count": 22,
   "metadata": {},
   "outputs": [
    {
     "name": "stdout",
     "output_type": "stream",
     "text": [
      "Found 2000 images belonging to 2 classes.\n",
      "Found 1000 images belonging to 2 classes.\n"
     ]
    }
   ],
   "source": [
    "train_datagen = ImageDataGenerator(rescale=1./255)\n",
    "validation_datagen = ImageDataGenerator(rescale=1./255)\n",
    "\n",
    "train_generator = train_datagen.flow_from_directory(\n",
    "        train_dir,\n",
    "        target_size=(150, 150),\n",
    "        batch_size=20,\n",
    "        class_mode='binary')\n",
    "\n",
    "validation_generator = validation_datagen.flow_from_directory(\n",
    "        validation_dir,\n",
    "        target_size=(150, 150),\n",
    "        batch_size=20,\n",
    "        class_mode='binary')"
   ]
  },
  {
   "cell_type": "code",
   "execution_count": 23,
   "metadata": {},
   "outputs": [],
   "source": [
    "model.compile(loss='binary_crossentropy',\n",
    "              optimizer=optimizers.RMSprop(lr=1e-5),\n",
    "              metrics=['acc'])"
   ]
  },
  {
   "cell_type": "code",
   "execution_count": 24,
   "metadata": {},
   "outputs": [
    {
     "name": "stdout",
     "output_type": "stream",
     "text": [
      "Epoch 1/100\n",
      "100/100 [==============================] - 181s 2s/step - loss: 0.0860 - acc: 0.9690 - val_loss: 0.6415 - val_acc: 0.9140\n",
      "Epoch 2/100\n",
      "100/100 [==============================] - 204s 2s/step - loss: 0.0503 - acc: 0.9850 - val_loss: 0.2160 - val_acc: 0.9140\n",
      "Epoch 3/100\n",
      "100/100 [==============================] - 184s 2s/step - loss: 0.0248 - acc: 0.9960 - val_loss: 0.1073 - val_acc: 0.9130\n",
      "Epoch 4/100\n",
      "100/100 [==============================] - 179s 2s/step - loss: 0.0149 - acc: 0.9965 - val_loss: 0.1721 - val_acc: 0.9010\n",
      "Epoch 5/100\n",
      "100/100 [==============================] - 180s 2s/step - loss: 0.0085 - acc: 0.9995 - val_loss: 0.0335 - val_acc: 0.9180\n",
      "Epoch 6/100\n",
      "100/100 [==============================] - 179s 2s/step - loss: 0.0084 - acc: 0.9970 - val_loss: 0.1994 - val_acc: 0.9160\n",
      "Epoch 7/100\n",
      "100/100 [==============================] - 177s 2s/step - loss: 0.0050 - acc: 0.9995 - val_loss: 0.5894 - val_acc: 0.9140\n",
      "Epoch 8/100\n",
      "100/100 [==============================] - 179s 2s/step - loss: 0.0030 - acc: 1.0000 - val_loss: 0.6377 - val_acc: 0.9180\n",
      "Epoch 9/100\n",
      "100/100 [==============================] - 195s 2s/step - loss: 0.0020 - acc: 1.0000 - val_loss: 0.0560 - val_acc: 0.9250\n",
      "Epoch 10/100\n",
      "100/100 [==============================] - 177s 2s/step - loss: 0.0011 - acc: 1.0000 - val_loss: 0.0096 - val_acc: 0.9280\n",
      "Epoch 11/100\n",
      "100/100 [==============================] - 177s 2s/step - loss: 9.6261e-04 - acc: 1.0000 - val_loss: 1.2290 - val_acc: 0.9300\n",
      "Epoch 12/100\n",
      "100/100 [==============================] - 177s 2s/step - loss: 6.1766e-04 - acc: 1.0000 - val_loss: 0.3902 - val_acc: 0.9270\n",
      "Epoch 13/100\n",
      "100/100 [==============================] - 177s 2s/step - loss: 0.0016 - acc: 0.9990 - val_loss: 0.4437 - val_acc: 0.9050\n",
      "Epoch 14/100\n",
      "100/100 [==============================] - 178s 2s/step - loss: 1.9304e-04 - acc: 1.0000 - val_loss: 0.2786 - val_acc: 0.9250\n",
      "Epoch 15/100\n",
      "100/100 [==============================] - 187s 2s/step - loss: 2.3481e-04 - acc: 1.0000 - val_loss: 0.2025 - val_acc: 0.9250\n",
      "Epoch 16/100\n",
      "100/100 [==============================] - 200s 2s/step - loss: 1.2419e-04 - acc: 1.0000 - val_loss: 0.2224 - val_acc: 0.9220\n",
      "Epoch 17/100\n",
      "100/100 [==============================] - 187s 2s/step - loss: 5.9743e-04 - acc: 0.9995 - val_loss: 0.9434 - val_acc: 0.9280\n",
      "Epoch 18/100\n",
      "100/100 [==============================] - 181s 2s/step - loss: 4.5496e-04 - acc: 0.9995 - val_loss: 0.5249 - val_acc: 0.9280\n",
      "Epoch 19/100\n",
      "100/100 [==============================] - 180s 2s/step - loss: 2.0814e-05 - acc: 1.0000 - val_loss: 1.2249 - val_acc: 0.9270\n",
      "Epoch 20/100\n",
      "100/100 [==============================] - 176s 2s/step - loss: 1.4567e-04 - acc: 1.0000 - val_loss: 0.0117 - val_acc: 0.9240\n",
      "Epoch 21/100\n",
      "100/100 [==============================] - 177s 2s/step - loss: 1.8980e-04 - acc: 1.0000 - val_loss: 0.8366 - val_acc: 0.9250\n",
      "Epoch 22/100\n",
      "100/100 [==============================] - 195s 2s/step - loss: 5.9003e-06 - acc: 1.0000 - val_loss: 0.7237 - val_acc: 0.9310\n",
      "Epoch 23/100\n",
      "100/100 [==============================] - 181s 2s/step - loss: 3.8012e-05 - acc: 1.0000 - val_loss: 0.1019 - val_acc: 0.9260\n",
      "Epoch 24/100\n",
      "100/100 [==============================] - 180s 2s/step - loss: 2.9281e-04 - acc: 1.0000 - val_loss: 0.5760 - val_acc: 0.9310\n",
      "Epoch 25/100\n",
      "100/100 [==============================] - 179s 2s/step - loss: 3.3895e-06 - acc: 1.0000 - val_loss: 6.0489e-05 - val_acc: 0.9250\n",
      "Epoch 26/100\n",
      "100/100 [==============================] - 179s 2s/step - loss: 8.9966e-06 - acc: 1.0000 - val_loss: 0.5219 - val_acc: 0.9310\n",
      "Epoch 27/100\n",
      "100/100 [==============================] - 188s 2s/step - loss: 5.8654e-05 - acc: 1.0000 - val_loss: 0.2938 - val_acc: 0.9280\n",
      "Epoch 28/100\n",
      "100/100 [==============================] - 189s 2s/step - loss: 2.9412e-05 - acc: 1.0000 - val_loss: 1.6547 - val_acc: 0.9290\n",
      "Epoch 29/100\n",
      "100/100 [==============================] - 179s 2s/step - loss: 5.0672e-06 - acc: 1.0000 - val_loss: 0.5172 - val_acc: 0.9290\n",
      "Epoch 30/100\n",
      "100/100 [==============================] - 179s 2s/step - loss: 1.1970e-05 - acc: 1.0000 - val_loss: 1.6275 - val_acc: 0.9190\n",
      "Epoch 31/100\n",
      "100/100 [==============================] - 179s 2s/step - loss: 0.0017 - acc: 0.9995 - val_loss: 0.0083 - val_acc: 0.9250\n",
      "Epoch 32/100\n",
      "100/100 [==============================] - 181s 2s/step - loss: 6.6651e-07 - acc: 1.0000 - val_loss: 0.5024 - val_acc: 0.9330\n",
      "Epoch 33/100\n",
      "100/100 [==============================] - 180s 2s/step - loss: 1.9823e-05 - acc: 1.0000 - val_loss: 0.0055 - val_acc: 0.9280\n",
      "Epoch 34/100\n",
      "100/100 [==============================] - 202s 2s/step - loss: 6.6343e-07 - acc: 1.0000 - val_loss: 0.2216 - val_acc: 0.9290\n",
      "Epoch 35/100\n",
      "100/100 [==============================] - 185s 2s/step - loss: 1.5470e-04 - acc: 1.0000 - val_loss: 0.3303 - val_acc: 0.9300\n",
      "Epoch 36/100\n",
      "100/100 [==============================] - 183s 2s/step - loss: 4.7007e-06 - acc: 1.0000 - val_loss: 0.3462 - val_acc: 0.9310\n",
      "Epoch 37/100\n",
      "100/100 [==============================] - 183s 2s/step - loss: 6.2122e-06 - acc: 1.0000 - val_loss: 0.0605 - val_acc: 0.9260\n",
      "Epoch 38/100\n",
      "100/100 [==============================] - 184s 2s/step - loss: 1.9915e-05 - acc: 1.0000 - val_loss: 0.6950 - val_acc: 0.9270\n",
      "Epoch 39/100\n",
      "100/100 [==============================] - 183s 2s/step - loss: 4.0943e-06 - acc: 1.0000 - val_loss: 0.3890 - val_acc: 0.9250\n",
      "Epoch 40/100\n",
      "100/100 [==============================] - 207s 2s/step - loss: 8.0383e-07 - acc: 1.0000 - val_loss: 1.5184 - val_acc: 0.9300\n",
      "Epoch 41/100\n",
      "100/100 [==============================] - 184s 2s/step - loss: 4.4136e-04 - acc: 0.9995 - val_loss: 0.2524 - val_acc: 0.9250\n",
      "Epoch 42/100\n",
      "100/100 [==============================] - 186s 2s/step - loss: 1.6897e-07 - acc: 1.0000 - val_loss: 0.3806 - val_acc: 0.9310\n",
      "Epoch 43/100\n",
      "100/100 [==============================] - 186s 2s/step - loss: 3.7405e-07 - acc: 1.0000 - val_loss: 0.2680 - val_acc: 0.9280\n",
      "Epoch 44/100\n",
      "100/100 [==============================] - 202s 2s/step - loss: 4.3463e-05 - acc: 1.0000 - val_loss: 1.4093 - val_acc: 0.9320\n",
      "Epoch 45/100\n",
      "100/100 [==============================] - 263s 3s/step - loss: 7.1097e-07 - acc: 1.0000 - val_loss: 1.0471 - val_acc: 0.9330\n",
      "Epoch 46/100\n",
      "100/100 [==============================] - 206s 2s/step - loss: 4.6986e-04 - acc: 0.9995 - val_loss: 0.6870 - val_acc: 0.9270\n",
      "Epoch 47/100\n",
      "100/100 [==============================] - 188s 2s/step - loss: 1.2237e-07 - acc: 1.0000 - val_loss: 0.2287 - val_acc: 0.9320\n",
      "Epoch 48/100\n",
      "100/100 [==============================] - 184s 2s/step - loss: 1.5811e-07 - acc: 1.0000 - val_loss: 0.0020 - val_acc: 0.9260\n",
      "Epoch 49/100\n",
      "100/100 [==============================] - 180s 2s/step - loss: 1.0913e-07 - acc: 1.0000 - val_loss: 1.1927 - val_acc: 0.9310\n",
      "Epoch 50/100\n",
      "100/100 [==============================] - 181s 2s/step - loss: 1.6487e-07 - acc: 1.0000 - val_loss: 1.0474e-04 - val_acc: 0.9120\n",
      "Epoch 51/100\n",
      "100/100 [==============================] - 191s 2s/step - loss: 3.9371e-07 - acc: 1.0000 - val_loss: 0.0397 - val_acc: 0.9320\n",
      "Epoch 52/100\n",
      "100/100 [==============================] - 195s 2s/step - loss: 1.4784e-06 - acc: 1.0000 - val_loss: 0.0893 - val_acc: 0.9310\n",
      "Epoch 53/100\n",
      "100/100 [==============================] - 211s 2s/step - loss: 7.7018e-08 - acc: 1.0000 - val_loss: 0.1815 - val_acc: 0.9290\n",
      "Epoch 54/100\n",
      "100/100 [==============================] - 183s 2s/step - loss: 3.9495e-05 - acc: 1.0000 - val_loss: 3.5330e-04 - val_acc: 0.9280\n",
      "Epoch 55/100\n",
      "100/100 [==============================] - 185s 2s/step - loss: 1.0103e-06 - acc: 1.0000 - val_loss: 0.4586 - val_acc: 0.9180\n",
      "Epoch 56/100\n",
      " 99/100 [============================>.] - ETA: 1s - loss: 1.6828e-06 - acc: 1.0000"
     ]
    },
    {
     "ename": "KeyboardInterrupt",
     "evalue": "",
     "output_type": "error",
     "traceback": [
      "\u001b[0;31m---------------------------------------------------------------------------\u001b[0m",
      "\u001b[0;31mKeyboardInterrupt\u001b[0m                         Traceback (most recent call last)",
      "\u001b[0;32m<ipython-input-24-cf9449c2d169>\u001b[0m in \u001b[0;36m<module>\u001b[0;34m\u001b[0m\n\u001b[1;32m      4\u001b[0m     \u001b[0mepochs\u001b[0m\u001b[0;34m=\u001b[0m\u001b[0;36m100\u001b[0m\u001b[0;34m,\u001b[0m\u001b[0;34m\u001b[0m\u001b[0;34m\u001b[0m\u001b[0m\n\u001b[1;32m      5\u001b[0m     \u001b[0mvalidation_data\u001b[0m\u001b[0;34m=\u001b[0m\u001b[0mvalidation_generator\u001b[0m\u001b[0;34m,\u001b[0m\u001b[0;34m\u001b[0m\u001b[0;34m\u001b[0m\u001b[0m\n\u001b[0;32m----> 6\u001b[0;31m     validation_steps=50)\n\u001b[0m",
      "\u001b[0;32m~/Documents/UVA/Finetuning/env/lib/python3.7/site-packages/keras/legacy/interfaces.py\u001b[0m in \u001b[0;36mwrapper\u001b[0;34m(*args, **kwargs)\u001b[0m\n\u001b[1;32m     89\u001b[0m                 warnings.warn('Update your `' + object_name + '` call to the ' +\n\u001b[1;32m     90\u001b[0m                               'Keras 2 API: ' + signature, stacklevel=2)\n\u001b[0;32m---> 91\u001b[0;31m             \u001b[0;32mreturn\u001b[0m \u001b[0mfunc\u001b[0m\u001b[0;34m(\u001b[0m\u001b[0;34m*\u001b[0m\u001b[0margs\u001b[0m\u001b[0;34m,\u001b[0m \u001b[0;34m**\u001b[0m\u001b[0mkwargs\u001b[0m\u001b[0;34m)\u001b[0m\u001b[0;34m\u001b[0m\u001b[0;34m\u001b[0m\u001b[0m\n\u001b[0m\u001b[1;32m     92\u001b[0m         \u001b[0mwrapper\u001b[0m\u001b[0;34m.\u001b[0m\u001b[0m_original_function\u001b[0m \u001b[0;34m=\u001b[0m \u001b[0mfunc\u001b[0m\u001b[0;34m\u001b[0m\u001b[0;34m\u001b[0m\u001b[0m\n\u001b[1;32m     93\u001b[0m         \u001b[0;32mreturn\u001b[0m \u001b[0mwrapper\u001b[0m\u001b[0;34m\u001b[0m\u001b[0;34m\u001b[0m\u001b[0m\n",
      "\u001b[0;32m~/Documents/UVA/Finetuning/env/lib/python3.7/site-packages/keras/engine/training.py\u001b[0m in \u001b[0;36mfit_generator\u001b[0;34m(self, generator, steps_per_epoch, epochs, verbose, callbacks, validation_data, validation_steps, validation_freq, class_weight, max_queue_size, workers, use_multiprocessing, shuffle, initial_epoch)\u001b[0m\n\u001b[1;32m   1730\u001b[0m             \u001b[0muse_multiprocessing\u001b[0m\u001b[0;34m=\u001b[0m\u001b[0muse_multiprocessing\u001b[0m\u001b[0;34m,\u001b[0m\u001b[0;34m\u001b[0m\u001b[0;34m\u001b[0m\u001b[0m\n\u001b[1;32m   1731\u001b[0m             \u001b[0mshuffle\u001b[0m\u001b[0;34m=\u001b[0m\u001b[0mshuffle\u001b[0m\u001b[0;34m,\u001b[0m\u001b[0;34m\u001b[0m\u001b[0;34m\u001b[0m\u001b[0m\n\u001b[0;32m-> 1732\u001b[0;31m             initial_epoch=initial_epoch)\n\u001b[0m\u001b[1;32m   1733\u001b[0m \u001b[0;34m\u001b[0m\u001b[0m\n\u001b[1;32m   1734\u001b[0m     \u001b[0;34m@\u001b[0m\u001b[0minterfaces\u001b[0m\u001b[0;34m.\u001b[0m\u001b[0mlegacy_generator_methods_support\u001b[0m\u001b[0;34m\u001b[0m\u001b[0;34m\u001b[0m\u001b[0m\n",
      "\u001b[0;32m~/Documents/UVA/Finetuning/env/lib/python3.7/site-packages/keras/engine/training_generator.py\u001b[0m in \u001b[0;36mfit_generator\u001b[0;34m(model, generator, steps_per_epoch, epochs, verbose, callbacks, validation_data, validation_steps, validation_freq, class_weight, max_queue_size, workers, use_multiprocessing, shuffle, initial_epoch)\u001b[0m\n\u001b[1;32m    240\u001b[0m                             \u001b[0mvalidation_steps\u001b[0m\u001b[0;34m,\u001b[0m\u001b[0;34m\u001b[0m\u001b[0;34m\u001b[0m\u001b[0m\n\u001b[1;32m    241\u001b[0m                             \u001b[0mcallbacks\u001b[0m\u001b[0;34m=\u001b[0m\u001b[0mcallbacks\u001b[0m\u001b[0;34m,\u001b[0m\u001b[0;34m\u001b[0m\u001b[0;34m\u001b[0m\u001b[0m\n\u001b[0;32m--> 242\u001b[0;31m                             workers=0)\n\u001b[0m\u001b[1;32m    243\u001b[0m                     \u001b[0;32melse\u001b[0m\u001b[0;34m:\u001b[0m\u001b[0;34m\u001b[0m\u001b[0;34m\u001b[0m\u001b[0m\n\u001b[1;32m    244\u001b[0m                         \u001b[0;31m# No need for try/except because\u001b[0m\u001b[0;34m\u001b[0m\u001b[0;34m\u001b[0m\u001b[0;34m\u001b[0m\u001b[0m\n",
      "\u001b[0;32m~/Documents/UVA/Finetuning/env/lib/python3.7/site-packages/keras/legacy/interfaces.py\u001b[0m in \u001b[0;36mwrapper\u001b[0;34m(*args, **kwargs)\u001b[0m\n\u001b[1;32m     89\u001b[0m                 warnings.warn('Update your `' + object_name + '` call to the ' +\n\u001b[1;32m     90\u001b[0m                               'Keras 2 API: ' + signature, stacklevel=2)\n\u001b[0;32m---> 91\u001b[0;31m             \u001b[0;32mreturn\u001b[0m \u001b[0mfunc\u001b[0m\u001b[0;34m(\u001b[0m\u001b[0;34m*\u001b[0m\u001b[0margs\u001b[0m\u001b[0;34m,\u001b[0m \u001b[0;34m**\u001b[0m\u001b[0mkwargs\u001b[0m\u001b[0;34m)\u001b[0m\u001b[0;34m\u001b[0m\u001b[0;34m\u001b[0m\u001b[0m\n\u001b[0m\u001b[1;32m     92\u001b[0m         \u001b[0mwrapper\u001b[0m\u001b[0;34m.\u001b[0m\u001b[0m_original_function\u001b[0m \u001b[0;34m=\u001b[0m \u001b[0mfunc\u001b[0m\u001b[0;34m\u001b[0m\u001b[0;34m\u001b[0m\u001b[0m\n\u001b[1;32m     93\u001b[0m         \u001b[0;32mreturn\u001b[0m \u001b[0mwrapper\u001b[0m\u001b[0;34m\u001b[0m\u001b[0;34m\u001b[0m\u001b[0m\n",
      "\u001b[0;32m~/Documents/UVA/Finetuning/env/lib/python3.7/site-packages/keras/engine/training.py\u001b[0m in \u001b[0;36mevaluate_generator\u001b[0;34m(self, generator, steps, callbacks, max_queue_size, workers, use_multiprocessing, verbose)\u001b[0m\n\u001b[1;32m   1789\u001b[0m             \u001b[0mworkers\u001b[0m\u001b[0;34m=\u001b[0m\u001b[0mworkers\u001b[0m\u001b[0;34m,\u001b[0m\u001b[0;34m\u001b[0m\u001b[0;34m\u001b[0m\u001b[0m\n\u001b[1;32m   1790\u001b[0m             \u001b[0muse_multiprocessing\u001b[0m\u001b[0;34m=\u001b[0m\u001b[0muse_multiprocessing\u001b[0m\u001b[0;34m,\u001b[0m\u001b[0;34m\u001b[0m\u001b[0;34m\u001b[0m\u001b[0m\n\u001b[0;32m-> 1791\u001b[0;31m             verbose=verbose)\n\u001b[0m\u001b[1;32m   1792\u001b[0m \u001b[0;34m\u001b[0m\u001b[0m\n\u001b[1;32m   1793\u001b[0m     \u001b[0;34m@\u001b[0m\u001b[0minterfaces\u001b[0m\u001b[0;34m.\u001b[0m\u001b[0mlegacy_generator_methods_support\u001b[0m\u001b[0;34m\u001b[0m\u001b[0;34m\u001b[0m\u001b[0m\n",
      "\u001b[0;32m~/Documents/UVA/Finetuning/env/lib/python3.7/site-packages/keras/engine/training_generator.py\u001b[0m in \u001b[0;36mevaluate_generator\u001b[0;34m(model, generator, steps, callbacks, max_queue_size, workers, use_multiprocessing, verbose)\u001b[0m\n\u001b[1;32m    399\u001b[0m             outs = model.test_on_batch(x, y,\n\u001b[1;32m    400\u001b[0m                                        \u001b[0msample_weight\u001b[0m\u001b[0;34m=\u001b[0m\u001b[0msample_weight\u001b[0m\u001b[0;34m,\u001b[0m\u001b[0;34m\u001b[0m\u001b[0;34m\u001b[0m\u001b[0m\n\u001b[0;32m--> 401\u001b[0;31m                                        reset_metrics=False)\n\u001b[0m\u001b[1;32m    402\u001b[0m             \u001b[0mouts\u001b[0m \u001b[0;34m=\u001b[0m \u001b[0mto_list\u001b[0m\u001b[0;34m(\u001b[0m\u001b[0mouts\u001b[0m\u001b[0;34m)\u001b[0m\u001b[0;34m\u001b[0m\u001b[0;34m\u001b[0m\u001b[0m\n\u001b[1;32m    403\u001b[0m             \u001b[0mouts_per_batch\u001b[0m\u001b[0;34m.\u001b[0m\u001b[0mappend\u001b[0m\u001b[0;34m(\u001b[0m\u001b[0mouts\u001b[0m\u001b[0;34m)\u001b[0m\u001b[0;34m\u001b[0m\u001b[0;34m\u001b[0m\u001b[0m\n",
      "\u001b[0;32m~/Documents/UVA/Finetuning/env/lib/python3.7/site-packages/keras/engine/training.py\u001b[0m in \u001b[0;36mtest_on_batch\u001b[0;34m(self, x, y, sample_weight, reset_metrics)\u001b[0m\n\u001b[1;32m   1557\u001b[0m             \u001b[0mins\u001b[0m \u001b[0;34m=\u001b[0m \u001b[0mx\u001b[0m \u001b[0;34m+\u001b[0m \u001b[0my\u001b[0m \u001b[0;34m+\u001b[0m \u001b[0msample_weights\u001b[0m\u001b[0;34m\u001b[0m\u001b[0;34m\u001b[0m\u001b[0m\n\u001b[1;32m   1558\u001b[0m         \u001b[0mself\u001b[0m\u001b[0;34m.\u001b[0m\u001b[0m_make_test_function\u001b[0m\u001b[0;34m(\u001b[0m\u001b[0;34m)\u001b[0m\u001b[0;34m\u001b[0m\u001b[0;34m\u001b[0m\u001b[0m\n\u001b[0;32m-> 1559\u001b[0;31m         \u001b[0moutputs\u001b[0m \u001b[0;34m=\u001b[0m \u001b[0mself\u001b[0m\u001b[0;34m.\u001b[0m\u001b[0mtest_function\u001b[0m\u001b[0;34m(\u001b[0m\u001b[0mins\u001b[0m\u001b[0;34m)\u001b[0m\u001b[0;34m\u001b[0m\u001b[0;34m\u001b[0m\u001b[0m\n\u001b[0m\u001b[1;32m   1560\u001b[0m \u001b[0;34m\u001b[0m\u001b[0m\n\u001b[1;32m   1561\u001b[0m         \u001b[0;32mif\u001b[0m \u001b[0mreset_metrics\u001b[0m\u001b[0;34m:\u001b[0m\u001b[0;34m\u001b[0m\u001b[0;34m\u001b[0m\u001b[0m\n",
      "\u001b[0;32m~/Documents/UVA/Finetuning/env/lib/python3.7/site-packages/tensorflow/python/keras/backend.py\u001b[0m in \u001b[0;36m__call__\u001b[0;34m(self, inputs)\u001b[0m\n\u001b[1;32m   3290\u001b[0m \u001b[0;34m\u001b[0m\u001b[0m\n\u001b[1;32m   3291\u001b[0m     fetched = self._callable_fn(*array_vals,\n\u001b[0;32m-> 3292\u001b[0;31m                                 run_metadata=self.run_metadata)\n\u001b[0m\u001b[1;32m   3293\u001b[0m     \u001b[0mself\u001b[0m\u001b[0;34m.\u001b[0m\u001b[0m_call_fetch_callbacks\u001b[0m\u001b[0;34m(\u001b[0m\u001b[0mfetched\u001b[0m\u001b[0;34m[\u001b[0m\u001b[0;34m-\u001b[0m\u001b[0mlen\u001b[0m\u001b[0;34m(\u001b[0m\u001b[0mself\u001b[0m\u001b[0;34m.\u001b[0m\u001b[0m_fetches\u001b[0m\u001b[0;34m)\u001b[0m\u001b[0;34m:\u001b[0m\u001b[0;34m]\u001b[0m\u001b[0;34m)\u001b[0m\u001b[0;34m\u001b[0m\u001b[0;34m\u001b[0m\u001b[0m\n\u001b[1;32m   3294\u001b[0m     output_structure = nest.pack_sequence_as(\n",
      "\u001b[0;32m~/Documents/UVA/Finetuning/env/lib/python3.7/site-packages/tensorflow/python/client/session.py\u001b[0m in \u001b[0;36m__call__\u001b[0;34m(self, *args, **kwargs)\u001b[0m\n\u001b[1;32m   1456\u001b[0m         ret = tf_session.TF_SessionRunCallable(self._session._session,\n\u001b[1;32m   1457\u001b[0m                                                \u001b[0mself\u001b[0m\u001b[0;34m.\u001b[0m\u001b[0m_handle\u001b[0m\u001b[0;34m,\u001b[0m \u001b[0margs\u001b[0m\u001b[0;34m,\u001b[0m\u001b[0;34m\u001b[0m\u001b[0;34m\u001b[0m\u001b[0m\n\u001b[0;32m-> 1458\u001b[0;31m                                                run_metadata_ptr)\n\u001b[0m\u001b[1;32m   1459\u001b[0m         \u001b[0;32mif\u001b[0m \u001b[0mrun_metadata\u001b[0m\u001b[0;34m:\u001b[0m\u001b[0;34m\u001b[0m\u001b[0;34m\u001b[0m\u001b[0m\n\u001b[1;32m   1460\u001b[0m           \u001b[0mproto_data\u001b[0m \u001b[0;34m=\u001b[0m \u001b[0mtf_session\u001b[0m\u001b[0;34m.\u001b[0m\u001b[0mTF_GetBuffer\u001b[0m\u001b[0;34m(\u001b[0m\u001b[0mrun_metadata_ptr\u001b[0m\u001b[0;34m)\u001b[0m\u001b[0;34m\u001b[0m\u001b[0;34m\u001b[0m\u001b[0m\n",
      "\u001b[0;31mKeyboardInterrupt\u001b[0m: "
     ]
    }
   ],
   "source": [
    "history = model.fit_generator(\n",
    "    train_generator,\n",
    "    steps_per_epoch=100,\n",
    "    epochs=100,\n",
    "    validation_data=validation_generator,\n",
    "    validation_steps=50)"
   ]
  },
  {
   "cell_type": "code",
   "execution_count": null,
   "metadata": {},
   "outputs": [],
   "source": []
  }
 ],
 "metadata": {
  "kernelspec": {
   "display_name": "venv_finetune",
   "language": "python",
   "name": "venv_finetune"
  },
  "language_info": {
   "codemirror_mode": {
    "name": "ipython",
    "version": 3
   },
   "file_extension": ".py",
   "mimetype": "text/x-python",
   "name": "python",
   "nbconvert_exporter": "python",
   "pygments_lexer": "ipython3",
   "version": "3.7.4"
  }
 },
 "nbformat": 4,
 "nbformat_minor": 4
}
